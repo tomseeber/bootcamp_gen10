{
 "cells": [
  {
   "cell_type": "code",
   "execution_count": 91,
   "metadata": {},
   "outputs": [],
   "source": [
    "import datetime\n",
    "from datetime import timedelta\n",
    "from datetime import datetime as dt\n",
    "import itertools\n"
   ]
  },
  {
   "cell_type": "code",
   "execution_count": null,
   "metadata": {},
   "outputs": [],
   "source": []
  },
  {
   "cell_type": "code",
   "execution_count": 92,
   "metadata": {},
   "outputs": [
    {
     "name": "stdout",
     "output_type": "stream",
     "text": [
      "June\n",
      "2017-11-28 23:55:59.342380\n"
     ]
    }
   ],
   "source": [
    "x = dt(2018, 6, 1)\n",
    "print(x.strftime(\"%B\"))\n",
    "\n",
    "#timestamp = datetime.fromtimestamp(1326244364)\n",
    "\n",
    "# datetime(year, month, day, hour, minute, second, microsecond)\n",
    "b = dt(2017, 11, 28, 23, 55, 59, 342380)\n",
    "print(b)\n"
   ]
  },
  {
   "cell_type": "code",
   "execution_count": null,
   "metadata": {},
   "outputs": [],
   "source": []
  },
  {
   "cell_type": "markdown",
   "metadata": {},
   "source": [
    "* https://www.geeksforgeeks.org/python-strftime-function/\n",
    "* https://www.geeksforgeeks.org/python-datetime-module/\n",
    "* https://docs.python.org/3/library/datetime.html"
   ]
  },
  {
   "cell_type": "code",
   "execution_count": 93,
   "metadata": {},
   "outputs": [
    {
     "name": "stdout",
     "output_type": "stream",
     "text": [
      "December\n"
     ]
    }
   ],
   "source": [
    "# Create a Returns a DateTime object corresponding to the date string\n",
    "# Canadian date format YYYY - MM - DD\n",
    "\n",
    "canadianDateFormat = '%Y-%m-%d'\n",
    "newDate = dt.strptime('2022-12-02',canadianDateFormat)\n",
    "\n",
    "print(newDate.strftime(\"%B\"))\n",
    "\n",
    "\n",
    "\n"
   ]
  },
  {
   "cell_type": "code",
   "execution_count": 94,
   "metadata": {},
   "outputs": [
    {
     "name": "stdout",
     "output_type": "stream",
     "text": [
      "[datetime.datetime(2022, 12, 2, 0, 0), datetime.datetime(2022, 12, 5, 0, 0), datetime.datetime(2022, 12, 9, 0, 0), datetime.datetime(2022, 12, 10, 0, 0), datetime.datetime(2022, 12, 12, 0, 0)]\n"
     ]
    }
   ],
   "source": [
    "#canadian format\n",
    "dateList = ['2022-12-02','2022-12-05','2022-12-09','2022-12-10','2022-12-12']\n",
    "dateObjList = list(map(lambda x: dt.strptime(x,canadianDateFormat), dateList))\n",
    "\n",
    "print(dateObjList)"
   ]
  },
  {
   "cell_type": "code",
   "execution_count": null,
   "metadata": {},
   "outputs": [],
   "source": []
  },
  {
   "cell_type": "code",
   "execution_count": 95,
   "metadata": {},
   "outputs": [],
   "source": [
    "# composite \n",
    "\n",
    "class Calender:\n",
    "    dateList = []\n",
    "    canadianDateFormat = '%Y-%m-%d'\n",
    "    usDateFormat = '%m-%d-%Y'\n",
    "\n",
    "    def __init__(self,dates):\n",
    "        self.addCanDates(dates)\n",
    "    \n",
    "        \n",
    "    #parameter: add List of string dates\n",
    "    def addCanDates(self,stringDates):\n",
    "        for strDate in stringDates:\n",
    "            aDate = dt.strptime(strDate,self.canadianDateFormat)\n",
    "            self.dateList.append(aDate)\n",
    "    \n",
    "    #parameter: add List of string dates\n",
    "    def addUsDates(self,stringDates):\n",
    "        for strDate in stringDates:\n",
    "            aDate = dt.strptime(strDate,self.usDateFormat)\n",
    "            self.dateList.append(aDate)\n",
    "    \n",
    "    \n",
    "    #parameter: Date Canada formated String.\n",
    "    def findCanDate(self,canDate):\n",
    "        for aDate in self.dateList:\n",
    "            if(aDate.strftime(self.canadianDateFormat) == canDate):\n",
    "                print(f\"the date is in the calender,{canDate} is good\")\n",
    "                return aDate\n",
    "        \n",
    "        print(\"the date is a big cup of Nope\")  \n",
    "    \n",
    "    \n",
    "    # parameters:  usDate format in string\n",
    "    def findUsDate(self,usDate):\n",
    "        print(\"Think about the assessment, look at this, This is your easter candy, happy Easter\")\n",
    "        for aDate in self.dateList:\n",
    "            if(aDate.strftime(self.usDateFormat) == usDate):\n",
    "                print(f\"the date is in the calender,{usDate} is good\")\n",
    "                return aDate\n",
    "        \n",
    "        print(\"the date is a big cup of Nope\")  \n",
    "    \n",
    "        \n",
    "        \n",
    "         \n",
    "    \n",
    "\n",
    "\n",
    "\n"
   ]
  },
  {
   "cell_type": "code",
   "execution_count": null,
   "metadata": {},
   "outputs": [],
   "source": []
  },
  {
   "cell_type": "code",
   "execution_count": 99,
   "metadata": {},
   "outputs": [
    {
     "name": "stdout",
     "output_type": "stream",
     "text": [
      "the date is in the calender,2022-01-27 is good\n",
      "the date is a big cup of Nope\n",
      "the date is a big cup of Nope\n",
      "the date is a big cup of Nope\n",
      "Think about the assessment, look at this, This is your easter candy, happy Easter\n",
      "the date is in the calender,01-27-2022 is good\n"
     ]
    }
   ],
   "source": [
    "tomscalender = Calender(['2022-01-27'])\n",
    "\n",
    "tomscalender.findCanDate('2022-01-27')\n",
    "tomscalender.findCanDate('2022-01-29')\n",
    "\n",
    "\n",
    "\n",
    "datefound = tomscalender.findUsDate('01-27-2022')\n",
    "\n",
    "\n"
   ]
  },
  {
   "cell_type": "code",
   "execution_count": 97,
   "metadata": {},
   "outputs": [
    {
     "ename": "AttributeError",
     "evalue": "'itertools.count' object has no attribute 'next'",
     "output_type": "error",
     "traceback": [
      "\u001b[0;31m---------------------------------------------------------------------------\u001b[0m",
      "\u001b[0;31mAttributeError\u001b[0m                            Traceback (most recent call last)",
      "\u001b[0;32m/var/folders/tq/t8mtqv314lg2510yzpslscmw0000gn/T/ipykernel_85274/406904427.py\u001b[0m in \u001b[0;36m<module>\u001b[0;34m\u001b[0m\n\u001b[1;32m      1\u001b[0m \u001b[0;31m# class TodoList:\u001b[0m\u001b[0;34m\u001b[0m\u001b[0;34m\u001b[0m\u001b[0m\n\u001b[1;32m      2\u001b[0m \u001b[0;34m\u001b[0m\u001b[0m\n\u001b[0;32m----> 3\u001b[0;31m \u001b[0;32mclass\u001b[0m \u001b[0mTask\u001b[0m\u001b[0;34m:\u001b[0m\u001b[0;34m\u001b[0m\u001b[0;34m\u001b[0m\u001b[0m\n\u001b[0m\u001b[1;32m      4\u001b[0m     \u001b[0mtaskDate\u001b[0m \u001b[0;34m=\u001b[0m \u001b[0;34m\"\"\u001b[0m\u001b[0;34m\u001b[0m\u001b[0;34m\u001b[0m\u001b[0m\n\u001b[1;32m      5\u001b[0m     \u001b[0mtaskName\u001b[0m \u001b[0;34m=\u001b[0m \u001b[0;34m\"\"\u001b[0m\u001b[0;34m\u001b[0m\u001b[0;34m\u001b[0m\u001b[0m\n",
      "\u001b[0;32m/var/folders/tq/t8mtqv314lg2510yzpslscmw0000gn/T/ipykernel_85274/406904427.py\u001b[0m in \u001b[0;36mTask\u001b[0;34m()\u001b[0m\n\u001b[1;32m      8\u001b[0m     \u001b[0musDateFormat\u001b[0m \u001b[0;34m=\u001b[0m \u001b[0;34m'%m-%d-%Y'\u001b[0m\u001b[0;34m\u001b[0m\u001b[0;34m\u001b[0m\u001b[0m\n\u001b[1;32m      9\u001b[0m     \u001b[0;31m#add unique id\u001b[0m\u001b[0;34m\u001b[0m\u001b[0;34m\u001b[0m\u001b[0m\n\u001b[0;32m---> 10\u001b[0;31m     \u001b[0mnewid\u001b[0m \u001b[0;34m=\u001b[0m \u001b[0mitertools\u001b[0m\u001b[0;34m.\u001b[0m\u001b[0mcount\u001b[0m\u001b[0;34m(\u001b[0m\u001b[0;34m)\u001b[0m\u001b[0;34m.\u001b[0m\u001b[0mnext\u001b[0m\u001b[0;34m\u001b[0m\u001b[0;34m\u001b[0m\u001b[0m\n\u001b[0m\u001b[1;32m     11\u001b[0m \u001b[0;34m\u001b[0m\u001b[0m\n\u001b[1;32m     12\u001b[0m     \u001b[0;32mdef\u001b[0m \u001b[0m__init__\u001b[0m\u001b[0;34m(\u001b[0m\u001b[0mself\u001b[0m\u001b[0;34m,\u001b[0m \u001b[0mname\u001b[0m\u001b[0;34m,\u001b[0m \u001b[0mdate\u001b[0m\u001b[0;34m)\u001b[0m\u001b[0;34m:\u001b[0m\u001b[0;34m\u001b[0m\u001b[0;34m\u001b[0m\u001b[0m\n",
      "\u001b[0;31mAttributeError\u001b[0m: 'itertools.count' object has no attribute 'next'"
     ]
    }
   ],
   "source": [
    "# class TodoList:\n",
    "\n",
    "class Task:\n",
    "    taskDate = \"\"\n",
    "    taskName = \"\"\n",
    "    complete = False\n",
    "    canadianDateFormat = '%Y-%m-%d'\n",
    "    usDateFormat = '%m-%d-%Y'\n",
    "    #add unique id\n",
    "    newid = itertools.count().next\n",
    "\n",
    "    def __init__(self, name, date):\n",
    "        self.taskName = name\n",
    "        self.taskDate = dt.strptime(date,self.usDateFormat)\n",
    "        self.id = resource_cl.newid()\n",
    "\n",
    "    def completeTask(self, id):\n",
    "        if(id == self.id):\n",
    "            self.complete = True \n",
    "        "
   ]
  },
  {
   "cell_type": "code",
   "execution_count": null,
   "metadata": {},
   "outputs": [],
   "source": []
  }
 ],
 "metadata": {
  "interpreter": {
   "hash": "40d3a090f54c6569ab1632332b64b2c03c39dcf918b08424e98f38b5ae0af88f"
  },
  "kernelspec": {
   "display_name": "Python 3.9.7 ('base')",
   "language": "python",
   "name": "python3"
  },
  "language_info": {
   "codemirror_mode": {
    "name": "ipython",
    "version": 3
   },
   "file_extension": ".py",
   "mimetype": "text/x-python",
   "name": "python",
   "nbconvert_exporter": "python",
   "pygments_lexer": "ipython3",
   "version": "3.9.7"
  },
  "orig_nbformat": 4
 },
 "nbformat": 4,
 "nbformat_minor": 2
}
